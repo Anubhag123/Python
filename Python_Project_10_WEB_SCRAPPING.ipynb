{
  "nbformat": 4,
  "nbformat_minor": 0,
  "metadata": {
    "colab": {
      "provenance": []
    },
    "kernelspec": {
      "name": "python3",
      "display_name": "Python 3"
    },
    "language_info": {
      "name": "python"
    }
  },
  "cells": [
    {
      "cell_type": "code",
      "execution_count": null,
      "metadata": {
        "id": "rLdvUP2pheui"
      },
      "outputs": [],
      "source": [
        "pip install requests\n",
        "pip install beautifulsoup4"
      ]
    },
    {
      "cell_type": "code",
      "source": [
        "import requests\n",
        "from bs4 import BeautifulSoup\n",
        "\n",
        "url\n",
        "url-'https://en.wikipedia.org/wiki/Marvel_Cinematic_Universe'\n",
        "div_id-'mw-content-text'\n",
        "\n",
        "response-requests.get(url)\n",
        "soup-BeautifulSoup(response.content,'html.parser')"
      ],
      "metadata": {
        "id": "wVOd4uNmjKK-"
      },
      "execution_count": null,
      "outputs": []
    },
    {
      "cell_type": "code",
      "source": [
        "all_text-soup.get_text()\n",
        "print(all_text)"
      ],
      "metadata": {
        "id": "4LHoZlrTmnOZ"
      },
      "execution_count": null,
      "outputs": []
    },
    {
      "cell_type": "code",
      "source": [
        "specific_div-soup.find('div',('id': div_id))\n",
        "\n",
        "if specific_div:\n",
        "  some_text-specific_div.find_all(['p','h1','h2','h3'])\n",
        "  for element in some_text:\n",
        "    print(element.get_text())\n",
        "\n",
        "    tables-specific_div.find_all('table')\n",
        "    for index,table in enumerate(tables,start-1):\n",
        "      rows-table.find_all('tr')\n",
        "      print(f\"Table(index):\")\n",
        "      for row in rows:\n",
        "        columns - row.find_all(['th','td'])\n",
        "        row_data-[col.get_text().strip() for col in columns]\n",
        "        print(row_data)\n",
        "else:\n",
        "  print('Div not found')\n"
      ],
      "metadata": {
        "id": "FKwQMZxZqJDK"
      },
      "execution_count": null,
      "outputs": []
    }
  ]
}