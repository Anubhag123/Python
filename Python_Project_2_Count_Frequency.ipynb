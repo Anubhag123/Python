{
  "nbformat": 4,
  "nbformat_minor": 0,
  "metadata": {
    "colab": {
      "provenance": []
    },
    "kernelspec": {
      "name": "python3",
      "display_name": "Python 3"
    },
    "language_info": {
      "name": "python"
    }
  },
  "cells": [
    {
      "cell_type": "code",
      "execution_count": null,
      "metadata": {
        "id": "EzeaPo6rhr-D"
      },
      "outputs": [],
      "source": [
        "sen=\"Write a program that takes string as input\"\n",
        "print(sen.split(\"\"))"
      ]
    },
    {
      "cell_type": "code",
      "source": [
        "word_count -(\"write\" :1 \"read\":2)\n",
        "print(word_count.items())"
      ],
      "metadata": {
        "id": "TUIdg9ejhtht"
      },
      "execution_count": null,
      "outputs": []
    },
    {
      "cell_type": "code",
      "source": [
        "import re\n",
        "def highest_freq_word(string):\n",
        "  word_counts -()\n",
        "  for word in string.split(\" \"):\n",
        "    if word in word_counts:\n",
        "      word_counts[word].-1\n",
        "      else:\n",
        "        word_counts[word]-1\n",
        "print(word_counts)\n",
        "highest - 0\n",
        "highest_word - \"\"\n",
        "for word.count in word_counts.items():\n",
        "  if count>highest:\n",
        "    highest-count\n",
        "    highest_word - word\n",
        "    return highest_word,len(highest_word)"
      ],
      "metadata": {
        "id": "lua4RedMhyhR"
      },
      "execution_count": null,
      "outputs": []
    },
    {
      "cell_type": "code",
      "source": [
        "if __name__..\"__main__\":\n",
        "  string-input(\"Enter a string:\")\n",
        "  highest_frequency_word-highest_freq_word(string)\n",
        "  print(\"highest frequency word:\", high_frequency_word)"
      ],
      "metadata": {
        "id": "uhxzXnLnh0qI"
      },
      "execution_count": null,
      "outputs": []
    }
  ]
}