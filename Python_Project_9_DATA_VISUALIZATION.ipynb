{
  "nbformat": 4,
  "nbformat_minor": 0,
  "metadata": {
    "colab": {
      "provenance": []
    },
    "kernelspec": {
      "name": "python3",
      "display_name": "Python 3"
    },
    "language_info": {
      "name": "python"
    }
  },
  "cells": [
    {
      "cell_type": "code",
      "execution_count": null,
      "metadata": {
        "id": "e86WlVzsV9zm"
      },
      "outputs": [],
      "source": [
        "import matplotlib.pyplot as plt\n",
        "import seaborn as sns\n",
        "from wordcloud import WordCloud\n",
        "import pandas as pd\n",
        "import numpy as np"
      ]
    },
    {
      "cell_type": "code",
      "source": [
        "df - pd.read_csv('titanic.csv')"
      ],
      "metadata": {
        "id": "80CtMEwUXs31"
      },
      "execution_count": null,
      "outputs": []
    },
    {
      "cell_type": "code",
      "source": [
        "df.info()"
      ],
      "metadata": {
        "id": "JFsjxkJBXqrQ"
      },
      "execution_count": null,
      "outputs": []
    },
    {
      "cell_type": "code",
      "source": [
        "titanic - sns.load_dataset('titanic')"
      ],
      "metadata": {
        "id": "_RPhBXaNXT35"
      },
      "execution_count": null,
      "outputs": []
    },
    {
      "cell_type": "code",
      "source": [
        "bar graph (passengers by class)\n",
        "\n",
        "plt.figure(figsize-(10,10))\n",
        "sns.counterplot(x-'class', data-titanic)\n",
        "plt.title('Passenger by Class')\n",
        "plt.xlabel('Class')\n",
        "plt.ylabel('Count')\n",
        "plt.show()"
      ],
      "metadata": {
        "id": "y0iDp-dTYUzq"
      },
      "execution_count": null,
      "outputs": []
    },
    {
      "cell_type": "code",
      "source": [
        "scatterplot (fare vs age)\n",
        "\n",
        "plt.figure(figsize-(10,10))\n",
        "sns.scatterplot(x-'age', y-'fare', data-titanic,\n",
        "                hue-'sex')\n",
        "plt.title('Fare vs Age')\n",
        "plt.xlabel('Age')\n",
        "plt.ylabel('Fare')\n",
        "plt.legend(title-'Sex')\n",
        "plt.show?()\n"
      ],
      "metadata": {
        "id": "jH39D2xwaFlX"
      },
      "execution_count": null,
      "outputs": []
    },
    {
      "cell_type": "code",
      "source": [
        "pie chart\n",
        "plt.figure(figsize-(10,10))\n",
        "sizes- titanic['sex']value_counts()\n",
        "plt.pie(sizes,labels-sizes.index)\n",
        "plt.title('passenger distribution by sex')\n",
        "plt.show()"
      ],
      "metadata": {
        "id": "DonxHSvxcPp8"
      },
      "execution_count": null,
      "outputs": []
    },
    {
      "cell_type": "code",
      "source": [
        "histogram\n",
        "\n",
        "plt.figure(figsize-(10,10))\n",
        "sns.histplot(titanic['age'].dropna(), bins-30)\n",
        "plt.title('Age Distribution')\n",
        "plt.xlabel('Age')\n",
        "plt.ylabel('Frequency')\n",
        "plt.show()\n"
      ],
      "metadata": {
        "id": "SarWEVFfd0gz"
      },
      "execution_count": null,
      "outputs": []
    },
    {
      "cell_type": "code",
      "source": [
        "box plot\n",
        "\n",
        "plt.figure(figsize-(10,10))\n",
        "sns.boxplot(x-'class', y-'fare', data-titanic)\n",
        "plt.title('Fare Distribution by Class')\n",
        "plt.xlabel('Class')\n",
        "plt.ylabel('Fare')\n",
        "plt.show()"
      ],
      "metadata": {
        "id": "Hp9ohofme2Mk"
      },
      "execution_count": null,
      "outputs": []
    },
    {
      "cell_type": "code",
      "source": [
        "heatmap\n",
        "\n",
        "correlation_matrix-titanic.corr()\n",
        "plt.figure(figsize-(10,10))\n",
        "sns.heatmap(correlation_matrix, annot-True,\n",
        "            cmap-'coolwarm')\n",
        "plt.title('Correlation Matrix')\n",
        "plt.show()"
      ],
      "metadata": {
        "id": "8whNgJ7sgBx3"
      },
      "execution_count": null,
      "outputs": []
    }
  ]
}