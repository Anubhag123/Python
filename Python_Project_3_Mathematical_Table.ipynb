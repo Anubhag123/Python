{
  "nbformat": 4,
  "nbformat_minor": 0,
  "metadata": {
    "colab": {
      "provenance": []
    },
    "kernelspec": {
      "name": "python3",
      "display_name": "Python 3"
    },
    "language_info": {
      "name": "python"
    }
  },
  "cells": [
    {
      "cell_type": "code",
      "execution_count": null,
      "metadata": {
        "id": "-tzLu6LU_pKP"
      },
      "outputs": [],
      "source": [
        "def multiplication(num):\n",
        "  for i in range(1,11):\n",
        "    result - i*num\n",
        "    print(f\" (i)x (num) - (result)\")\n",
        "\n",
        "    num - int(input(\"Enter a number\"))\n",
        "    multiplication(num)"
      ]
    }
  ]
}