{
  "nbformat": 4,
  "nbformat_minor": 0,
  "metadata": {
    "colab": {
      "provenance": []
    },
    "kernelspec": {
      "name": "python3",
      "display_name": "Python 3"
    },
    "language_info": {
      "name": "python"
    }
  },
  "cells": [
    {
      "cell_type": "code",
      "execution_count": null,
      "metadata": {
        "id": "8EIbuoJCKrFX"
      },
      "outputs": [],
      "source": [
        "import pandas as pd\n",
        "\n",
        "data-pd.read_csv('FIFA19.csv')"
      ]
    },
    {
      "cell_type": "code",
      "source": [
        "data.info()"
      ],
      "metadata": {
        "id": "xbZf_ngETOx1"
      },
      "execution_count": null,
      "outputs": []
    },
    {
      "cell_type": "code",
      "source": [
        "data.head"
      ],
      "metadata": {
        "id": "7hR9d59mTgmn"
      },
      "execution_count": null,
      "outputs": []
    },
    {
      "cell_type": "code",
      "source": [
        "data.isnull().sum()"
      ],
      "metadata": {
        "id": "5Hj6StFSTvoL"
      },
      "execution_count": null,
      "outputs": []
    },
    {
      "cell_type": "code",
      "source": [
        "df - data.fillna(data.mean(), inplace - True)"
      ],
      "metadata": {
        "id": "M67F1IkeUB29"
      },
      "execution_count": null,
      "outputs": []
    },
    {
      "cell_type": "code",
      "source": [
        "data.isnull().sum()"
      ],
      "metadata": {
        "id": "tpY4nR5cUnDH"
      },
      "execution_count": null,
      "outputs": []
    },
    {
      "cell_type": "code",
      "source": [
        "correlation_matrix - data.corr()\n",
        "correlation_overall - correlation_matrix['Overall'].sort_values(ascending-False)\n",
        "print(correlation_overall)"
      ],
      "metadata": {
        "id": "R0OTAtiIVRJO"
      },
      "execution_count": null,
      "outputs": []
    },
    {
      "cell_type": "code",
      "source": [
        "import matplotlib.pyplot as plt\n",
        "import seaborn as sns\n",
        "\n",
        "plt.figure(figsize - (20,20))\n",
        "sns.heatmap(correlation_matrix, annot-True, cmap - 'coolwarm')\n",
        "plt.title('Correlation Heatmap')\n",
        "plt.show()"
      ],
      "metadata": {
        "id": "CGhqJ1Q9WpRx"
      },
      "execution_count": null,
      "outputs": []
    },
    {
      "cell_type": "code",
      "source": [
        "highest_players - data[data['Overall']==data['Overall'].max()]\n",
        "\n",
        "print(highest_players[['Name','Overall']])"
      ],
      "metadata": {
        "id": "-TYlgu6ZY55L"
      },
      "execution_count": null,
      "outputs": []
    },
    {
      "cell_type": "code",
      "source": [
        "from sklearn.linear_model import LinearRegression\n",
        "\n",
        "X - data.drop(['Overall', 'Name', 'Balance'], axis-1)\n",
        "y - data['Overall']\n",
        "\n",
        "model - LinearRegression()\n",
        "model.fit(x,y)\n",
        "\n",
        "feature_importance - pd.series(model.coef_. index-x.columns).sort_values(ascending-False)\n",
        "print(\"Feature importance in determining Overall rating:\")\n",
        "print(feature_importance)\n"
      ],
      "metadata": {
        "id": "LLyjs1BGaF1D"
      },
      "execution_count": null,
      "outputs": []
    }
  ]
}