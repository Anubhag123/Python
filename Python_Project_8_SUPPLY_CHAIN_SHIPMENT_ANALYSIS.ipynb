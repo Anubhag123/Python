{
  "nbformat": 4,
  "nbformat_minor": 0,
  "metadata": {
    "colab": {
      "provenance": []
    },
    "kernelspec": {
      "name": "python3",
      "display_name": "Python 3"
    },
    "language_info": {
      "name": "python"
    }
  },
  "cells": [
    {
      "cell_type": "code",
      "execution_count": null,
      "metadata": {
        "id": "uo5ok2vzaLAk"
      },
      "outputs": [],
      "source": [
        "import pandas as pd\n",
        "import seaborn as sns\n",
        "import matplotlib.pyplot as plt\n",
        "\n",
        "ship_data - pd.read_csv('shipment.csv')\n",
        "\n",
        "print(ship_data.info())\n",
        "\n",
        "print(ship_data.describe())"
      ]
    },
    {
      "cell_type": "code",
      "source": [
        "ship_data.isnull().sum()"
      ],
      "metadata": {
        "id": "LpLizOREbaW_"
      },
      "execution_count": null,
      "outputs": []
    },
    {
      "cell_type": "code",
      "source": [
        "plt.figure(figsize-(20,20))\n",
        "sns.boxplot(data-ship_data.select_dtype(include-'number'))\n",
        "plt.title('Boxplot of Numerical Columns')\n",
        "plt.show()"
      ],
      "metadata": {
        "id": "e6VM03LBbqoz"
      },
      "execution_count": null,
      "outputs": []
    },
    {
      "cell_type": "code",
      "source": [
        "summary_report - \"\"\"\n",
        "Summary_Report:\n",
        "- Basic information about dataset:\n",
        "()\n",
        "- Summary statistics:\n",
        "()\n",
        "- Missing values:\n",
        "()\n",
        "\"\"\".format (ship_data.info(). ship_data.describe(). ship_data.isnull().sum())\n",
        "print(summary_report)"
      ],
      "metadata": {
        "id": "KKFEmxTOc6C6"
      },
      "execution_count": null,
      "outputs": []
    }
  ]
}