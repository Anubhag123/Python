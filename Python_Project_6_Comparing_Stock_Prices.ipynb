{
  "nbformat": 4,
  "nbformat_minor": 0,
  "metadata": {
    "colab": {
      "provenance": []
    },
    "kernelspec": {
      "name": "python3",
      "display_name": "Python 3"
    },
    "language_info": {
      "name": "python"
    }
  },
  "cells": [
    {
      "cell_type": "code",
      "execution_count": null,
      "metadata": {
        "id": "es_sCj6zpux_"
      },
      "outputs": [],
      "source": [
        "import pandas as pd\n",
        "import pandas_datareader.data as web\n",
        "from datetime import datetime\n",
        "\n",
        "companies - (\n",
        "    'Apple':'AAPL',\n",
        "    'Google':'GOOGL',\n",
        "    'Microsoft':'MSFT',\n",
        "    'Amazon':'AMZN'\n",
        ")\n",
        "\n",
        "start_date - datetime(2023.1.1)\n",
        "end_date - datetime(2023.12.31)\n",
        "\n",
        "stock_data - ()\n",
        "\n",
        "for company,symbol in companies.items()\n",
        "  df- web.DataReader( symbol, 'stooq', start_date, end_date)\n",
        "  stock_data[company].df\n",
        "\n",
        "  percentage_change - ()\n",
        "  for company,data in stock_data.items():\n",
        "    initial_price - date['Close'][0]\n",
        "    final_price - date[Close'][-1]\n",
        "    percentage_change[company] - ((final_price - initial_price)/initial_price)*100\n",
        "\n",
        "print(\"percentage change in stock prices:)\n",
        "for company,change in perecentage_change.items():\n",
        "  print(f\"(company): (change:.2f)%change.\")\n",
        "\n",
        "best_perfomer - max(percentage_change, key- percentage_change.get)\n",
        "print(f\"percentage_change[best_performer]:.2f% change.\")\n",
        "\n",
        "for company.data in stock_data.items():\n",
        "  print(f\"\\n Historical stock prices for (company)\")\n",
        "  print(data.head())\n",
        "\n",
        "\n"
      ]
    }
  ]
}