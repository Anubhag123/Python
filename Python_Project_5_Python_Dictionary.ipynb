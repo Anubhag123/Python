{
  "nbformat": 4,
  "nbformat_minor": 0,
  "metadata": {
    "colab": {
      "provenance": []
    },
    "kernelspec": {
      "name": "python3",
      "display_name": "Python 3"
    },
    "language_info": {
      "name": "python"
    }
  },
  "cells": [
    {
      "cell_type": "code",
      "execution_count": null,
      "metadata": {
        "id": "Cigacg6_YwwF"
      },
      "outputs": [],
      "source": [
        "def people_details():\n",
        "  num_people - int(input(\"How many people?\"))\n",
        "  people_deets - ()\n",
        "\n",
        "  for i in range(num_people):\n",
        "    name - input(f\"Enter name of person(i+1)\")\n",
        "    age - input(f\"Enter age of person(i+1)\")\n",
        "    occupation - input(f\"Enter occupation of person(i+1)\")\n",
        "\n",
        "    people_deets[name] - ('Age':age, 'Occupation':occupation)\n",
        "  return people_deets\n",
        "\n",
        "  details - people_details()\n",
        "\n",
        "  print(\"\\nDetails of people:\")\n",
        "  for name, info in details.items():\n",
        "    print(f\"Name: (name), Age: (info['Age']), Occupation: (info['Occupation'])\")\n",
        "\n"
      ]
    }
  ]
}