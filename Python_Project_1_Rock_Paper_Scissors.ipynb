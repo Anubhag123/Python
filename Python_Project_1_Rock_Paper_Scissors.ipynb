{
  "nbformat": 4,
  "nbformat_minor": 0,
  "metadata": {
    "colab": {
      "provenance": []
    },
    "kernelspec": {
      "name": "python3",
      "display_name": "Python 3"
    },
    "language_info": {
      "name": "python"
    }
  },
  "cells": [
    {
      "cell_type": "code",
      "execution_count": null,
      "metadata": {
        "id": "8X4x-EB8WaoY"
      },
      "outputs": [],
      "source": [
        "import random\n",
        "choices=[\"Rock\",\"paper\",\"scissor\"]"
      ]
    },
    {
      "cell_type": "code",
      "source": [
        "def get_computer_choice():\n",
        "  return random.choice(choices)"
      ],
      "metadata": {
        "id": "SWC9CESnWdlA"
      },
      "execution_count": null,
      "outputs": []
    },
    {
      "cell_type": "code",
      "source": [
        "def get_user_choice():\n",
        "  user_choice-input(\"Enter your choice, Rock paper or scissor?\").lower()\n",
        "  if user_choice in choices:\n",
        "    return user_choice\n",
        "  else:\n",
        "      return \"Invalid choice. Please try again.\""
      ],
      "metadata": {
        "id": "4EzQWo52WkMD"
      },
      "execution_count": null,
      "outputs": []
    },
    {
      "cell_type": "code",
      "source": [
        "def determine_winner(user_choice,computer_choice):\n",
        "  if user_choice==computer_choice:\n",
        "    return \"It's a tie\"\n",
        "  elif (user_choice=='rock' and computer_choice=='scissors') or\\\n",
        "       (user_choice=='scissor' and computer_choice=='paper') or \\\n",
        "       (user_choice=='paper' and computer_choice=='rock'):\n",
        "       return \"You win\"\n",
        "  else:\n",
        "    return \"Computer wins\""
      ],
      "metadata": {
        "id": "JTesSbBNWmqz"
      },
      "execution_count": null,
      "outputs": []
    },
    {
      "cell_type": "code",
      "source": [
        "def game_play():\n",
        "  print(\"Let's play!\")\n",
        "  while True:\n",
        "    user_choice-get_user_choice()\n",
        "    computer_value-get_computer_choice()\n",
        "    print(\"You chose: (user_choice)\")\n",
        "    print(\"Computer chose: (computer_value)\")\n",
        "    result- determine_winner(user_choice,computer_value)\n",
        "    print(result)\n",
        "    play_again = input(\"Do you want to play again? (y/n): \").lower()\n",
        "    if play_again != \"y\":\n",
        "      break"
      ],
      "metadata": {
        "id": "R1gBZ-TsWow7"
      },
      "execution_count": null,
      "outputs": []
    },
    {
      "cell_type": "code",
      "source": [
        "game_play()"
      ],
      "metadata": {
        "id": "sh9ymVPIWqxw"
      },
      "execution_count": null,
      "outputs": []
    }
  ]
}