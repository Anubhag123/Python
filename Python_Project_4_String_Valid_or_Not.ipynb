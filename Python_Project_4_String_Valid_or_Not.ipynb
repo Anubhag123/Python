{
  "nbformat": 4,
  "nbformat_minor": 0,
  "metadata": {
    "colab": {
      "provenance": []
    },
    "kernelspec": {
      "name": "python3",
      "display_name": "Python 3"
    },
    "language_info": {
      "name": "python"
    }
  },
  "cells": [
    {
      "cell_type": "code",
      "execution_count": null,
      "metadata": {
        "id": "ZbqxG0y1IeVX"
      },
      "outputs": [],
      "source": [
        "from collections import Counter\n",
        "\n",
        "def check_valid(string):\n",
        "  char_count - Counter(string)\n",
        "  print(char_count)\n",
        "  count - list(char_count.values())\n",
        "  print(count)\n",
        "  if len(set(count)) == 1:\n",
        "    return \"YES\"\n",
        "\n",
        "\n",
        "for i in range(len(count)):\n",
        "  new_count - counts[:i] + count[i+1:]\n",
        "  if len(set(new_count))== 1:\n",
        "      return \"YES\"\n",
        "\n",
        "  return \"NO\"\n",
        "\n",
        "  words - input(\"Enter a string:\")\n",
        "  result - check_valid(words)\n",
        "  print(result)"
      ]
    }
  ]
}